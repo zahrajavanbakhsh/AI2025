{
 "cells": [
  {
   "cell_type": "markdown",
   "metadata": {},
   "source": [
    "# Problem 1\n",
    "\n",
    "There are `n` children standing in a line. Each child is assigned a rating value given in the integer array `ratings`.\n",
    "\n",
    "You are giving candies to these children subjected to the following requirements:\n",
    "- Each child must have at least one candy.\n",
    "- Children with a higher rating get more candies than their neighbors.\n",
    "\n",
    "Return the minimum number of candies you need to have to distribute the candies to the children."
   ]
  },
  {
   "cell_type": "code",
   "execution_count": null,
   "metadata": {},
   "outputs": [],
   "source": [
    "def candy(ratings: list[int]) -> int:\n",
    "    pass"
   ]
  },
  {
   "cell_type": "code",
   "execution_count": null,
   "metadata": {},
   "outputs": [],
   "source": [
    "assert candy([1,0,2]) == 5 # You can allocate to the first, second and third child with 2, 1, 2 candies respectively.\n",
    "assert candy([1,2,2]) == 4 # You can allocate to the first, second and third child with 1, 2, 1 candies respectively. The third child gets 1 candy because it satisfies the above two conditions."
   ]
  },
  {
   "cell_type": "markdown",
   "metadata": {},
   "source": [
    "# Problem 2\n",
    "\n",
    "Consider a money system consisting of `n` coins. Each coin has a positive integer value. Your task is to calculate the number of distinct ways you can produce a money sum `x` using the available coins.\n",
    "\n",
    "For example, if the coins are \\{2,3,5\\} and the desired sum is 9, there are 8 ways:\n",
    "- 2+2+5\n",
    "- 2+5+2\n",
    "- 5+2+2\n",
    "- 3+3+3\n",
    "- 2+2+2+3\n",
    "- 2+2+3+2\n",
    "- 2+3+2+2\n",
    "- 3+2+2+2"
   ]
  },
  {
   "cell_type": "code",
   "execution_count": null,
   "metadata": {},
   "outputs": [],
   "source": [
    "def ways(n: int, x: int, coins: list[int]) -> int:\n",
    "    pass"
   ]
  },
  {
   "cell_type": "code",
   "execution_count": null,
   "metadata": {},
   "outputs": [],
   "source": [
    "assert ways(3, 9, [2,3,5]) == 8"
   ]
  },
  {
   "cell_type": "markdown",
   "metadata": {},
   "source": [
    "# Problem 3\n",
    "Given a string, your task is to reorder its letters in such a way that it becomes a palindrome.\n",
    "A palindrome is a word that reads the same backward as forward. e.g. \"madam\"\n",
    "\n",
    "Return a palindrome consisting of the characters of the original string. You may print any valid solution. If there are no solutions, return \"NO SOLUTION\"."
   ]
  },
  {
   "cell_type": "code",
   "execution_count": null,
   "metadata": {},
   "outputs": [],
   "source": [
    "def palindromize(s: str) -> str:\n",
    "    pass"
   ]
  },
  {
   "cell_type": "code",
   "execution_count": null,
   "metadata": {},
   "outputs": [],
   "source": [
    "assert palindromize('AAAACACBA') == 'AACABACAA'"
   ]
  }
 ],
 "metadata": {
  "kernelspec": {
   "display_name": "Python 3",
   "language": "python",
   "name": "python3"
  },
  "language_info": {
   "codemirror_mode": {
    "name": "ipython",
    "version": 3
   },
   "file_extension": ".py",
   "mimetype": "text/x-python",
   "name": "python",
   "nbconvert_exporter": "python",
   "pygments_lexer": "ipython3",
   "version": "3.10.11"
  }
 },
 "nbformat": 4,
 "nbformat_minor": 2
}
