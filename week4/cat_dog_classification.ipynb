{
 "cells": [
  {
   "cell_type": "markdown",
   "metadata": {},
   "source": [
    "# Cat and Dog Classification\n",
    "Classify images of cats and dogs using Histogram of Oriented Gradients (HOG) for feature extraction and Decision Tree for classification. "
   ]
  },
  {
   "cell_type": "code",
   "execution_count": null,
   "metadata": {},
   "outputs": [],
   "source": [
    "import os\n",
    "import numpy as np\n",
    "from skimage.io import imread\n",
    "from skimage.color import rgb2gray\n",
    "from skimage.feature import hog\n",
    "from skimage.transform import resize\n",
    "from sklearn.model_selection import train_test_split\n",
    "from sklearn.tree import DecisionTreeClassifier\n",
    "from sklearn.metrics import accuracy_score\n",
    "import matplotlib.pyplot as plt"
   ]
  },
  {
   "cell_type": "code",
   "execution_count": null,
   "metadata": {},
   "outputs": [],
   "source": [
    "# Load dataset\n",
    "data_dir = './dataset'\n",
    "images, labels = [], []\n",
    "\n",
    "for file in os.listdir(data_dir):\n",
    "    if file.endswith('.jpg'):\n",
    "        img_path = os.path.join(data_dir, file)\n",
    " \n",
    "        if file.startswith('cat'):\n",
    "            labels.append(0)  # Cat\n",
    "        elif file.startswith('dog'):\n",
    "            labels.append(1)  # Dog\n",
    "        else:\n",
    "            continue\n",
    "\n",
    "        img = imread(img_path)\n",
    "        img = rgb2gray(img)  # Convert to grayscale\n",
    "        img_resized = resize(img, (128, 128), anti_aliasing=True)\n",
    "        images.append(img_resized)\n",
    "\n",
    "images = np.array(images)\n",
    "labels = np.array(labels)\n",
    "print('Images shape:', images.shape)\n",
    "print('Labels shape:', labels.shape)\n",
    "print(f'Number of cats: {np.sum(labels == 0)}')\n",
    "print(f'Number of dogs: {np.sum(labels == 1)}')"
   ]
  },
  {
   "cell_type": "code",
   "execution_count": null,
   "metadata": {},
   "outputs": [],
   "source": [
    "def extract_hog_features(images, visualize=False):\n",
    "    \"\"\"Extract HOG features from a list of grayscale images.\n",
    "    \n",
    "    Args:\n",
    "        images: Array of grayscale images (N, 128, 128).\n",
    "        visualize: If True, return HOG visualizations.\n",
    "    \n",
    "    Returns:\n",
    "        hog_features: Array of HOG features (N, feature_size).\n",
    "        hog_images: Array of HOG visualizations (N, 128, 128) if visualize=True, else None.\n",
    "    \"\"\"\n",
    "    pass"
   ]
  },
  {
   "cell_type": "code",
   "execution_count": null,
   "metadata": {},
   "outputs": [],
   "source": [
    "def split_and_save_dataset(images, labels, test_size=0.2, train_dir='./dog-cat/train', test_dir='./dog-cat/test'):\n",
    "    \"\"\"Split dataset into training and test sets and save images to separate directories.\n",
    "    \n",
    "    Args:\n",
    "        images: Array of grayscale images (N, 128, 128).\n",
    "        labels: Array of labels (0 for cat, 1 for dog).\n",
    "        test_size: Fraction of data for test set.\n",
    "        train_dir: Directory to save training images.\n",
    "        test_dir: Directory to save test images.\n",
    "    \n",
    "    Returns:\n",
    "        X_train, X_test: HOG features for training and test sets.\n",
    "        y_train, y_test: Labels for training and test sets.\n",
    "        idx_train, idx_test: Indices for training and test sets.\n",
    "    \"\"\"\n",
    "    pass"
   ]
  },
  {
   "cell_type": "code",
   "execution_count": null,
   "metadata": {},
   "outputs": [],
   "source": [
    "def train_decision_tree(X_train, y_train):\n",
    "    \"\"\"Train a Decision Tree classifier on HOG features.\n",
    "    \n",
    "    Args:\n",
    "        X_train: HOG features for training (N_train, feature_size).\n",
    "        y_train: Training labels (0 for cat, 1 for dog).\n",
    "    \n",
    "    Returns:\n",
    "        clf: Trained Decision Tree classifier.\n",
    "    \"\"\"\n",
    "    pass"
   ]
  },
  {
   "cell_type": "code",
   "execution_count": null,
   "metadata": {},
   "outputs": [],
   "source": [
    "def evaluate_model(clf, X_test, y_test):\n",
    "    \"\"\"Evaluate the Decision Tree classifier on the test set.\n",
    "    \n",
    "    Args:\n",
    "        clf: Trained Decision Tree classifier.\n",
    "        X_test: HOG features for test set (N_test, feature_size).\n",
    "        y_test: Test labels (0 for cat, 1 for dog).\n",
    "    \n",
    "    Returns:\n",
    "        accuracy: Test set accuracy.\n",
    "        y_pred: Predicted labels for test set.\n",
    "    \"\"\"\n",
    "    pass"
   ]
  },
  {
   "cell_type": "code",
   "execution_count": null,
   "metadata": {},
   "outputs": [],
   "source": [
    "# Extract HOG features\n",
    "hog_features, hog_images = extract_hog_features(images, visualize=True)\n",
    "\n",
    "# Split and save dataset\n",
    "X_train, X_test, y_train, y_test, idx_train, idx_test = split_and_save_dataset(images, labels, test_size=0.2)\n",
    "\n",
    "# Train Decision Tree\n",
    "clf = train_decision_tree(X_train, y_train)\n",
    "\n",
    "# Evaluate model\n",
    "accuracy, y_pred = evaluate_model(clf, X_test, y_test)\n",
    "print(f'Test Accuracy: {accuracy:.4f}')\n",
    "\n",
    "# Visualize results\n",
    "classes = ['cat', 'dog']\n",
    "cat_indices = [idx for idx in idx_test if y_test[np.where(idx_test == idx)[0][0]] == 0]\n",
    "dog_indices = [idx for idx in idx_test if y_test[np.where(idx_test == idx)[0][0]] == 1]\n",
    "sample_indices = cat_indices[:min(5, len(cat_indices))] + dog_indices[:min(5, len(dog_indices))]\n",
    "\n",
    "fig, axes = plt.subplots(len(sample_indices), 2, figsize=(8, 4 * len(sample_indices)))\n",
    "for i, idx in enumerate(sample_indices):\n",
    "    ax = axes[i, 0] if len(sample_indices) > 1 else axes[0]\n",
    "    true_label = y_test[np.where(idx_test == idx)[0][0]]\n",
    "    pred_label = y_pred[np.where(idx_test == idx)[0][0]]\n",
    "    ax.imshow(images[idx], cmap='gray')\n",
    "    ax.set_title(f'Pred: {classes[pred_label]} | True: {classes[true_label]}')\n",
    "    ax.axis('off')\n",
    "\n",
    "    ax = axes[i, 1] if len(sample_indices) > 1 else axes[1]\n",
    "    ax.imshow(hog_images[idx], cmap='gray')\n",
    "    ax.set_title(f'HOG | Pred: {classes[pred_label]}')\n",
    "    ax.axis('off')\n",
    "\n",
    "plt.tight_layout()\n",
    "plt.show()"
   ]
  }
 ],
 "metadata": {
  "kernelspec": {
   "display_name": "Python 3",
   "language": "python",
   "name": "python3"
  },
  "language_info": {
   "codemirror_mode": {
    "name": "ipython",
    "version": 3
   },
   "file_extension": ".py",
   "mimetype": "text/x-python",
   "name": "python",
   "nbconvert_exporter": "python",
   "pygments_lexer": "ipython3",
   "version": "3.10.10"
  }
 },
 "nbformat": 4,
 "nbformat_minor": 4
}
