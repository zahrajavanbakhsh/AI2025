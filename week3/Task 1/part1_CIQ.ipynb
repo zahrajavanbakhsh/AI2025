{
 "cells": [
  {
   "cell_type": "markdown",
   "metadata": {},
   "source": [
    "# Color Image Quantization\n",
    "Reduce the number of colors in images (`lena.png`, `peppers.tif`) to 16 using K-means clustering, implemented from scratch. Log L2 norms per iteration and optionally visualize quantized images."
   ]
  },
  {
   "cell_type": "code",
   "execution_count": 1,
   "metadata": {},
   "outputs": [],
   "source": [
    "import cv2\n",
    "import numpy as np\n",
    "import matplotlib.pyplot as plt"
   ]
  },
  {
   "cell_type": "code",
   "execution_count": null,
   "metadata": {},
   "outputs": [],
   "source": [
    "def kmeans_quantization(image, k=16, max_iterations=100, visualize=False):\n",
    "    \"\"\"Perform K-means color quantization on an image.\n",
    "    \n",
    "    Args:\n",
    "        image: Input image (H, W, 3) as float32 in [0, 1].     H:height    W:width   3: RGB channels\n",
    "        k: Number of clusters (colors).\n",
    "        max_iterations: Maximum number of iterations.\n",
    "        visualize: If True, display quantized image per iteration.\n",
    "    \n",
    "    Returns:\n",
    "        quantized_image: Image with k colors.\n",
    "        l2_norms: List of L2 norms per iteration.\n",
    "    \"\"\"\n",
    "    # TODO: Implement K-means clustering from scratch\n",
    "    # 1. Reshape image to list of pixels (N, 3)\n",
    "    pixel = image.reshape(-1 , 3).astype(np.float32)\n",
    "    print(pixel)\n",
    "    # 2. Initialize k centroids randomly\n",
    "    # 3. Assign pixels to nearest centroid (L2 norm)\n",
    "    # 4. Update centroids as mean of assigned pixels\n",
    "    # 5. Log L2 norm per iteration\n",
    "    # 6. Visualize if flag is enabled\n",
    "    #pass"
   ]
  },
  {
   "cell_type": "code",
   "execution_count": 12,
   "metadata": {},
   "outputs": [
    {
     "name": "stdout",
     "output_type": "stream",
     "text": [
      "(512, 512, 3)\n",
      "[[125. 137. 226.]\n",
      " [125. 137. 226.]\n",
      " [133. 137. 223.]\n",
      " ...\n",
      " [ 79.  70. 179.]\n",
      " [ 81.  71. 181.]\n",
      " [ 81.  74. 185.]]\n",
      "(262144, 3)\n"
     ]
    },
    {
     "ename": "ValueError",
     "evalue": "low >= high",
     "output_type": "error",
     "traceback": [
      "\u001b[31m---------------------------------------------------------------------------\u001b[39m",
      "\u001b[31mValueError\u001b[39m                                Traceback (most recent call last)",
      "\u001b[36mCell\u001b[39m\u001b[36m \u001b[39m\u001b[32mIn[12]\u001b[39m\u001b[32m, line 8\u001b[39m\n\u001b[32m      6\u001b[39m \u001b[38;5;28mprint\u001b[39m(pixel.shape)\n\u001b[32m      7\u001b[39m \u001b[38;5;28;01mfor\u001b[39;00m i \u001b[38;5;129;01min\u001b[39;00m \u001b[38;5;28mrange\u001b[39m(\u001b[32m16\u001b[39m):\n\u001b[32m----> \u001b[39m\u001b[32m8\u001b[39m     K_point_of_array[i] = \u001b[43mnp\u001b[49m\u001b[43m.\u001b[49m\u001b[43mrandom\u001b[49m\u001b[43m.\u001b[49m\u001b[43mrandint\u001b[49m\u001b[43m(\u001b[49m\u001b[32;43m255\u001b[39;49m\u001b[43m \u001b[49m\u001b[43m,\u001b[49m\u001b[43m \u001b[49m\u001b[43mpixel\u001b[49m\u001b[43m.\u001b[49m\u001b[43mshape\u001b[49m\u001b[43m)\u001b[49m\n",
      "\u001b[36mFile \u001b[39m\u001b[32mnumpy\\\\random\\\\mtrand.pyx:794\u001b[39m, in \u001b[36mnumpy.random.mtrand.RandomState.randint\u001b[39m\u001b[34m()\u001b[39m\n",
      "\u001b[36mFile \u001b[39m\u001b[32mnumpy\\\\random\\\\_bounded_integers.pyx:2915\u001b[39m, in \u001b[36mnumpy.random._bounded_integers._rand_int32\u001b[39m\u001b[34m()\u001b[39m\n",
      "\u001b[36mFile \u001b[39m\u001b[32mnumpy\\\\random\\\\_bounded_integers.pyx:831\u001b[39m, in \u001b[36mnumpy.random._bounded_integers._rand_int32_broadcast\u001b[39m\u001b[34m()\u001b[39m\n",
      "\u001b[31mValueError\u001b[39m: low >= high"
     ]
    }
   ],
   "source": [
    "image = cv2.imread(\"lena.png\")\n",
    "pixel = image.reshape(512**2 , 3).astype(np.float32)\n",
    "pixel = image.reshape(-1 , 3).astype(np.float32)\n",
    "print(image.shape)\n",
    "print(pixel)\n",
    "print(pixel.shape)\n",
    "for i in range(16):\n",
    "    K_point_of_array[i] = np.random.randint(255 , pixel.shape)"
   ]
  },
  {
   "cell_type": "code",
   "execution_count": null,
   "metadata": {},
   "outputs": [],
   "source": [
    "def calculate_l2_norm(original, quantized):\n",
    "    \"\"\"Calculate total L2 norm between original and quantized images.\n",
    "    \n",
    "    Args:\n",
    "        original: Original image (H, W, 3) as float32 in [0, 1].\n",
    "        quantized: Quantized image (H, W, 3) as float32 in [0, 1].\n",
    "    \n",
    "    Returns:\n",
    "        l2_norm: Total L2 norm across all pixels.\n",
    "    \"\"\"\n",
    "    # TODO: Compute L2 norm: sqrt(sum((R1-R2)^2 + (G1-G2)^2 + (B1-B2)^2))\n",
    "    pass"
   ]
  },
  {
   "cell_type": "code",
   "execution_count": null,
   "metadata": {},
   "outputs": [],
   "source": [
    "# Load images\n",
    "lena_path = './images_CIQ/lena.png'\n",
    "\n",
    "lena = cv2.imread(lena_path).astype(np.float32) / 255.0\n",
    "\n",
    "# Parameters\n",
    "k = 16\n",
    "max_iterations = 100\n",
    "visualize = True"
   ]
  },
  {
   "cell_type": "code",
   "execution_count": null,
   "metadata": {},
   "outputs": [],
   "source": [
    "# Process images\n",
    "lena_quantized, lena_l2_norms = kmeans_quantization(lena, k, max_iterations, visualize)\n",
    "\n",
    "# Save L2 norms\n",
    "with open('L2_norm_log.txt', 'w') as f:\n",
    "    f.write('Lena L2 Norms:\\n' + '\\n'.join(map(str, lena_l2_norms)) + '\\n')\n",
    "\n",
    "# Calculate final L2 norms\n",
    "lena_l2 = calculate_l2_norm(lena, lena_quantized)\n",
    "\n",
    "# Visualize results\n",
    "plt.imshow(cv2.cvtColor(lena_quantized, cv2.COLOR_BGR2RGB))\n",
    "plt.title('Lena Quantized')\n",
    "plt.axis('off')\n",
    "plt.show()\n",
    "\n",
    "print(f'Total L2 Norm: {lena_l2:.2f}')\n",
    "\n",
    "# Save quantized images\n",
    "cv2.imwrite('lena_quantized.png', (lena_quantized * 255).astype(np.uint8))"
   ]
  }
 ],
 "metadata": {
  "kernelspec": {
   "display_name": "Python 3",
   "language": "python",
   "name": "python3"
  },
  "language_info": {
   "codemirror_mode": {
    "name": "ipython",
    "version": 3
   },
   "file_extension": ".py",
   "mimetype": "text/x-python",
   "name": "python",
   "nbconvert_exporter": "python",
   "pygments_lexer": "ipython3",
   "version": "3.13.3"
  }
 },
 "nbformat": 4,
 "nbformat_minor": 4
}
