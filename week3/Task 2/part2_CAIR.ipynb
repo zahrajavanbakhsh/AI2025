{
 "cells": [
  {
   "cell_type": "markdown",
   "metadata": {},
   "source": [
    "# Content-Aware Image Retargeting\n",
    "Reduce the width of images (`Baby.png`, `Diana.png`, `Snowman.png`) by `seams_number` columns using Seam Carving, implemented from scratch. Optionally use depth/saliency maps or other energy functions. Visualize seams if enabled."
   ]
  },
  {
   "cell_type": "code",
   "execution_count": 1,
   "metadata": {},
   "outputs": [],
   "source": [
    "import cv2\n",
    "import numpy as np\n",
    "import matplotlib.pyplot as plt"
   ]
  },
  {
   "cell_type": "code",
   "execution_count": 2,
   "metadata": {},
   "outputs": [],
   "source": [
    "def Energy_Map(image , DMap = None , SMap = None , energy_type = \"gradient\" , alpha = 0.5 , beta = 0.5): \n",
    "    gray = cv2.cvtColor(image , cv2.COLOR_BGR2GRAY)\n",
    "    if energy_type == \"gradient\":\n",
    "        sobelX = cv2.Sobel(gray , cv2.CV_64F , 1 , 0 , ksize=3)\n",
    "        sobelY = cv2.Sobel(gray , cv2.CV_64F , 0 , 1 , ksize=3)\n",
    "        energy = np.sqrt(sobelX**2 + sobelY**2)\n",
    "        \n",
    "    elif energy_type == 'saliency' and SMap is not None:\n",
    "        energy = SMap.copy()\n",
    "        \n",
    "    elif energy_type == 'depth' and DMap is not None:\n",
    "        energy = DMap.copy()\n",
    "        \n",
    "    elif energy_type == 'combined':\n",
    "        sobelX = cv2.Sobel(gray , cv2.CV_64F , 1 , 0 , ksize=3)\n",
    "        sobelY = cv2.Sobel(gray , cv2.CV_64F , 0 , 1 , ksize=3)\n",
    "        gradient = np.sqrt(sobelX**2 + sobelY**2)\n",
    "        \n",
    "        energy = alpha * gradient\n",
    "        \n",
    "        if SMap is not None:\n",
    "            energy += beta * SMap\n",
    "        if DMap is not None:\n",
    "            energy += beta * DMap\n",
    "                \n",
    "    else:\n",
    "        raise ValueError(\"value is not true!\")\n",
    "    \n",
    "    return energy        "
   ]
  },
  {
   "cell_type": "code",
   "execution_count": null,
   "metadata": {},
   "outputs": [],
   "source": [
    "def seam_carving(image, seams_number, depth_map=None, saliency_map=None, visualize=False):\n",
    "    \"\"\"Perform Seam Carving to reduce image width by seams_number columns.\n",
    "    \n",
    "    Args:\n",
    "        image: Input image (H, W, 3) as float32 in [0, 1].\n",
    "        seams_number: Number of vertical seams to remove.\n",
    "        depth_map: Optional depth map (H, W) as float32.\n",
    "        saliency_map: Optional saliency map (H, W) as float32.\n",
    "        visualize: If True, display seams during processing.\n",
    "    \n",
    "    Returns:\n",
    "        resized_image: Image with reduced width.\n",
    "        seam_energies: List of cumulative energies of removed seams.\n",
    "    \"\"\"\n",
    "    # TODO: Implement Seam Carving from scratch\n",
    "    # 1. Compute energy map (e.g., gradient, depth, or saliency-based)\n",
    "    # 2. Find lowest-energy vertical seam using dynamic programming\n",
    "    # 3. Remove seam and update image\n",
    "    # 4. Repeat for seams_number iterations\n",
    "    # 5. Visualize seams if flag enabled\n",
    "    # 6. Log seam energies\n",
    "    pass"
   ]
  },
  {
   "cell_type": "code",
   "execution_count": null,
   "metadata": {},
   "outputs": [],
   "source": [
    "# Load images and maps\n",
    "baby_path = './images_CAIR/Baby.png'\n",
    "baby_dmap_path = './images_CAIR/Baby_DMap.png'\n",
    "baby_smap_path = './images_CAIR/Baby_SMap.png'\n",
    "\n",
    "baby = cv2.imread(baby_path).astype(np.float32) / 255.0\n",
    "baby_dmap = cv2.imread(baby_dmap_path, cv2.IMREAD_GRAYSCALE).astype(np.float32) / 255.0\n",
    "baby_smap = cv2.imread(baby_smap_path, cv2.IMREAD_GRAYSCALE).astype(np.float32) / 255.0\n",
    "\n",
    "# Parameters\n",
    "seams_number = 200\n",
    "visualize = True"
   ]
  },
  {
   "cell_type": "code",
   "execution_count": null,
   "metadata": {},
   "outputs": [],
   "source": [
    "# Process images\n",
    "baby_resized, baby_energies = seam_carving(baby, seams_number, baby_dmap, baby_smap, visualize)\n",
    "\n",
    "# Save seam energies\n",
    "with open('seam_energy_log.txt', 'w') as f:\n",
    "    f.write('Baby Seam Energies:\\n' + '\\n'.join(map(str, baby_energies)) + '\\n')\n",
    "\n",
    "# Visualize results\n",
    "plt.imshow(cv2.cvtColor(baby_resized, cv2.COLOR_BGR2RGB))\n",
    "plt.title('Baby Resized')\n",
    "plt.axis('off')\n",
    "plt.show()\n",
    "\n",
    "# Save resized images\n",
    "cv2.imwrite('Baby_resized.png', (baby_resized * 255).astype(np.uint8))"
   ]
  }
 ],
 "metadata": {
  "kernelspec": {
   "display_name": "Python 3",
   "language": "python",
   "name": "python3"
  },
  "language_info": {
   "codemirror_mode": {
    "name": "ipython",
    "version": 3
   },
   "file_extension": ".py",
   "mimetype": "text/x-python",
   "name": "python",
   "nbconvert_exporter": "python",
   "pygments_lexer": "ipython3",
   "version": "3.13.3"
  }
 },
 "nbformat": 4,
 "nbformat_minor": 4
}
